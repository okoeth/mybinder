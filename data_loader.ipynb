{
 "cells": [
  {
   "cell_type": "markdown",
   "metadata": {},
   "source": [
    "# Load Strava Data\n",
    "This notebook loads the activity data from Strava, puts it in a data frame and stores the data frame on disc. The data frame is not included in .gitignore, so the data is also stored in the git repo. In case of privacy concerns you may want to change that."
   ]
  },
  {
   "cell_type": "markdown",
   "metadata": {},
   "source": [
    "## Connect to Strava\n",
    "To run through the Strava OAuth workflow, run the first cell of this notebook and click on the resulting URL. This leads you to the login page of Strava and once logged in, to a defunct redirect. Nevermind the redirect, just take out the temp code from the URL. Insert the temp code in the STRAVA_CODE variable in the second cell of this notebook. Once you run the second cell of the notebook, you have an authenticated client for Strava."
   ]
  },
  {
   "cell_type": "code",
   "execution_count": 1,
   "metadata": {},
   "outputs": [
    {
     "name": "stdout",
     "output_type": "stream",
     "text": [
      "https://www.strava.com/oauth/authorize?client_id=29670&redirect_uri=http%3A%2F%2Flocalhost%3A8282%2Fauthorized&approval_prompt=auto&response_type=code\n"
     ]
    }
   ],
   "source": [
    "import os\n",
    "\n",
    "from stravalib.client import Client\n",
    "\n",
    "# The STRAVA API keys are expected as env variables\n",
    "STRAVA_ID=int(os.environ.get(\"STRAVA_ID\"))\n",
    "STRAVA_SECRET=os.environ.get(\"STRAVA_SECRET\")\n",
    "\n",
    "client=Client() \n",
    "authorize_url = client.authorization_url(\n",
    "    client_id=STRAVA_ID, \n",
    "    redirect_uri='http://localhost:8282/authorized') \n",
    "print(authorize_url)"
   ]
  },
  {
   "cell_type": "code",
   "execution_count": 2,
   "metadata": {},
   "outputs": [],
   "source": [
    "STRAVA_CODE=\"171482836f49334b7bc81ea7365372d372131d8d\"\n",
    "\n",
    "access_token = client.exchange_code_for_token(\n",
    "    client_id=STRAVA_ID, \n",
    "    client_secret=STRAVA_SECRET, \n",
    "    code=STRAVA_CODE)\n",
    "client = Client(access_token=access_token) "
   ]
  },
  {
   "cell_type": "markdown",
   "metadata": {},
   "source": [
    "## Load basic data from Strava\n",
    "The query requests all activity data from 2018. For other time intervalls, the query parameter can be changed accordingly. The data is stored in a Pandas data frame. The columns can be defined in the respective array. "
   ]
  },
  {
   "cell_type": "code",
   "execution_count": 10,
   "metadata": {},
   "outputs": [
    {
     "name": "stderr",
     "output_type": "stream",
     "text": [
      "No such attribute visibility on entity <Activity id=1930230520 name='Heßdorf - Dechsendorf' resource_state=2>\n",
      "No such attribute heartrate_opt_out on entity <Activity id=1930230520 name='Heßdorf - Dechsendorf' resource_state=2>\n",
      "No such attribute display_hide_heartrate_option on entity <Activity id=1930230520 name='Heßdorf - Dechsendorf' resource_state=2>\n",
      "No such attribute visibility on entity <Activity id=1932623703 name='Indoor Running' resource_state=2>\n",
      "No such attribute heartrate_opt_out on entity <Activity id=1932623703 name='Indoor Running' resource_state=2>\n",
      "No such attribute display_hide_heartrate_option on entity <Activity id=1932623703 name='Indoor Running' resource_state=2>\n"
     ]
    }
   ],
   "source": [
    "import pandas as pd\n",
    "\n",
    "# Define columns and create data frame\n",
    "data = []\n",
    "columns =['average_cadence', 'average_heartrate', 'average_speed', 'calories',  'description', 'distance', 'elapsed_time', 'end_latlng', 'gear', 'id', 'location_city', 'location_country', 'start_date', 'start_date_local', 'start_latitude', 'start_longitude', 'start_latlng', 'type', 'workout_type']\n",
    "index = []\n",
    "index_column = \"start_date_local\"\n",
    "\n",
    "# List some activities\n",
    "activities = client.get_activities(after = \"2018-10-26T00:00:00Z\", limit=5)\n",
    "\n",
    "for activity in activities:\n",
    "    activity_dict = {}\n",
    "    for column in columns:\n",
    "        activity_dict[column] = activity.__getattribute__(column)\n",
    "    data.append(activity_dict)\n",
    "    index.append(activity_dict[index_column])\n",
    "    \n",
    "activity_df = pd.DataFrame(\n",
    "    data, \n",
    "    index=index, \n",
    "    columns=columns)"
   ]
  },
  {
   "cell_type": "markdown",
   "metadata": {},
   "source": [
    "## Enrich activity data\n",
    "For each activity, additional data points like heartrate are provided as streams. This needs to be requested by activity id."
   ]
  },
  {
   "cell_type": "code",
   "execution_count": null,
   "metadata": {},
   "outputs": [],
   "source": [
    "# Lookup heartrate stream\n",
    "def lookup_heartrate_stream (id):\n",
    "    \n",
    "activity_df['heartrate_stream'] = activity_df.apply(\n",
    "    lambda row: lookup_heartrate_stream(row['id']), axis=1)\n"
   ]
  },
  {
   "cell_type": "markdown",
   "metadata": {},
   "source": [
    "## Enrich location data\n",
    "The location data is provided as latitude/logitude only. We use the Nominatim service to convert this in an address and store country and postcode."
   ]
  },
  {
   "cell_type": "code",
   "execution_count": 11,
   "metadata": {},
   "outputs": [],
   "source": [
    "from geopy.geocoders import Nominatim\n",
    "geolocator = Nominatim(user_agent=\"mybinder\")\n",
    "\n",
    "def lookup_address(start_latlng):\n",
    "    lat = start_latlng.lat\n",
    "    lon = start_latlng.lon\n",
    "    loc = geolocator.reverse(str(lat)+\", \"+str(lon))\n",
    "    return loc.raw[\"address\"]\n",
    "    \n",
    "def lookup_country(start_latlng):\n",
    "    if start_latlng:\n",
    "        return lookup_address(start_latlng)[\"country\"]\n",
    "\n",
    "def lookup_postcode(start_latlng):\n",
    "    if start_latlng:\n",
    "        return lookup_address(start_latlng)[\"postcode\"]\n",
    "\n",
    "activity_df['location_country'] = activity_df.apply(\n",
    "    lambda row: lookup_country(row['start_latlng']), axis=1)\n",
    "\n",
    "activity_df['location_postcode'] = activity_df.apply(\n",
    "    lambda row: lookup_postcode(row['start_latlng']), axis=1)\n"
   ]
  },
  {
   "cell_type": "code",
   "execution_count": 12,
   "metadata": {},
   "outputs": [
    {
     "data": {
      "text/html": [
       "<div>\n",
       "<style scoped>\n",
       "    .dataframe tbody tr th:only-of-type {\n",
       "        vertical-align: middle;\n",
       "    }\n",
       "\n",
       "    .dataframe tbody tr th {\n",
       "        vertical-align: top;\n",
       "    }\n",
       "\n",
       "    .dataframe thead th {\n",
       "        text-align: right;\n",
       "    }\n",
       "</style>\n",
       "<table border=\"1\" class=\"dataframe\">\n",
       "  <thead>\n",
       "    <tr style=\"text-align: right;\">\n",
       "      <th></th>\n",
       "      <th>average_cadence</th>\n",
       "      <th>average_heartrate</th>\n",
       "      <th>average_speed</th>\n",
       "      <th>calories</th>\n",
       "      <th>description</th>\n",
       "      <th>distance</th>\n",
       "      <th>elapsed_time</th>\n",
       "      <th>end_latlng</th>\n",
       "      <th>gear</th>\n",
       "      <th>id</th>\n",
       "      <th>location_city</th>\n",
       "      <th>location_country</th>\n",
       "      <th>start_date</th>\n",
       "      <th>start_date_local</th>\n",
       "      <th>start_latitude</th>\n",
       "      <th>start_longitude</th>\n",
       "      <th>start_latlng</th>\n",
       "      <th>type</th>\n",
       "      <th>workout_type</th>\n",
       "      <th>location_postcode</th>\n",
       "    </tr>\n",
       "  </thead>\n",
       "  <tbody>\n",
       "    <tr>\n",
       "      <th>2018-10-27 15:35:09</th>\n",
       "      <td>76.4</td>\n",
       "      <td>130.4</td>\n",
       "      <td>2.95 m / s</td>\n",
       "      <td>None</td>\n",
       "      <td>None</td>\n",
       "      <td>8272.90 m</td>\n",
       "      <td>00:49:11</td>\n",
       "      <td>(49.63, 10.91)</td>\n",
       "      <td>None</td>\n",
       "      <td>1930230520</td>\n",
       "      <td>None</td>\n",
       "      <td>Deutschland</td>\n",
       "      <td>2018-10-27 13:35:09+00:00</td>\n",
       "      <td>2018-10-27 15:35:09</td>\n",
       "      <td>49.63</td>\n",
       "      <td>10.91</td>\n",
       "      <td>(49.63, 10.91)</td>\n",
       "      <td>Run</td>\n",
       "      <td>None</td>\n",
       "      <td>91093</td>\n",
       "    </tr>\n",
       "    <tr>\n",
       "      <th>2018-10-28 15:40:26</th>\n",
       "      <td>82.1</td>\n",
       "      <td>125.5</td>\n",
       "      <td>2.69 m / s</td>\n",
       "      <td>None</td>\n",
       "      <td>None</td>\n",
       "      <td>10027.50 m</td>\n",
       "      <td>01:02:14</td>\n",
       "      <td>None</td>\n",
       "      <td>None</td>\n",
       "      <td>1932623703</td>\n",
       "      <td>None</td>\n",
       "      <td>None</td>\n",
       "      <td>2018-10-28 14:40:26+00:00</td>\n",
       "      <td>2018-10-28 15:40:26</td>\n",
       "      <td>NaN</td>\n",
       "      <td>NaN</td>\n",
       "      <td>None</td>\n",
       "      <td>Run</td>\n",
       "      <td>None</td>\n",
       "      <td>None</td>\n",
       "    </tr>\n",
       "  </tbody>\n",
       "</table>\n",
       "</div>"
      ],
      "text/plain": [
       "                     average_cadence  average_heartrate average_speed  \\\n",
       "2018-10-27 15:35:09             76.4              130.4    2.95 m / s   \n",
       "2018-10-28 15:40:26             82.1              125.5    2.69 m / s   \n",
       "\n",
       "                    calories description    distance elapsed_time  \\\n",
       "2018-10-27 15:35:09     None        None   8272.90 m     00:49:11   \n",
       "2018-10-28 15:40:26     None        None  10027.50 m     01:02:14   \n",
       "\n",
       "                         end_latlng  gear          id location_city  \\\n",
       "2018-10-27 15:35:09  (49.63, 10.91)  None  1930230520          None   \n",
       "2018-10-28 15:40:26            None  None  1932623703          None   \n",
       "\n",
       "                    location_country                start_date  \\\n",
       "2018-10-27 15:35:09      Deutschland 2018-10-27 13:35:09+00:00   \n",
       "2018-10-28 15:40:26             None 2018-10-28 14:40:26+00:00   \n",
       "\n",
       "                       start_date_local  start_latitude  start_longitude  \\\n",
       "2018-10-27 15:35:09 2018-10-27 15:35:09           49.63            10.91   \n",
       "2018-10-28 15:40:26 2018-10-28 15:40:26             NaN              NaN   \n",
       "\n",
       "                       start_latlng type workout_type location_postcode  \n",
       "2018-10-27 15:35:09  (49.63, 10.91)  Run         None             91093  \n",
       "2018-10-28 15:40:26            None  Run         None              None  "
      ]
     },
     "execution_count": 12,
     "metadata": {},
     "output_type": "execute_result"
    }
   ],
   "source": [
    "activity_df"
   ]
  }
 ],
 "metadata": {
  "kernelspec": {
   "display_name": "Python 3",
   "language": "python",
   "name": "python3"
  },
  "language_info": {
   "codemirror_mode": {
    "name": "ipython",
    "version": 3
   },
   "file_extension": ".py",
   "mimetype": "text/x-python",
   "name": "python",
   "nbconvert_exporter": "python",
   "pygments_lexer": "ipython3",
   "version": "3.6.6"
  }
 },
 "nbformat": 4,
 "nbformat_minor": 2
}
